{
 "cells": [
  {
   "cell_type": "code",
   "execution_count": null,
   "metadata": {},
   "outputs": [],
   "source": [
    "! pip install easygui"
   ]
  },
  {
   "cell_type": "markdown",
   "metadata": {},
   "source": []
  },
  {
   "cell_type": "code",
   "execution_count": null,
   "metadata": {},
   "outputs": [],
   "source": [
    "! pip install opencv-python"
   ]
  },
  {
   "cell_type": "code",
   "execution_count": null,
   "metadata": {},
   "outputs": [],
   "source": [
    "import cv2"
   ]
  },
  {
   "cell_type": "code",
   "execution_count": null,
   "metadata": {},
   "outputs": [],
   "source": [
    "import easygui"
   ]
  },
  {
   "cell_type": "code",
   "execution_count": null,
   "metadata": {},
   "outputs": [],
   "source": [
    "import numpy as np"
   ]
  },
  {
   "cell_type": "code",
   "execution_count": null,
   "metadata": {},
   "outputs": [],
   "source": [
    "import imageio"
   ]
  },
  {
   "cell_type": "code",
   "execution_count": null,
   "metadata": {},
   "outputs": [],
   "source": [
    "import sys"
   ]
  },
  {
   "cell_type": "code",
   "execution_count": null,
   "metadata": {},
   "outputs": [],
   "source": [
    "import matplotlib.pyplot as plt"
   ]
  },
  {
   "cell_type": "code",
   "execution_count": null,
   "metadata": {},
   "outputs": [],
   "source": [
    "import os"
   ]
  },
  {
   "cell_type": "code",
   "execution_count": null,
   "metadata": {},
   "outputs": [],
   "source": [
    "import tkinter as tk"
   ]
  },
  {
   "cell_type": "code",
   "execution_count": null,
   "metadata": {},
   "outputs": [],
   "source": [
    "from tkinter import filedialog"
   ]
  },
  {
   "cell_type": "code",
   "execution_count": null,
   "metadata": {},
   "outputs": [],
   "source": [
    "from tkinter import *"
   ]
  },
  {
   "cell_type": "code",
   "execution_count": null,
   "metadata": {},
   "outputs": [],
   "source": [
    "from PIL import ImageTk,Image"
   ]
  },
  {
   "cell_type": "code",
   "execution_count": null,
   "metadata": {},
   "outputs": [],
   "source": [
    "def upload():\n",
    "    ImagePath=easygui.fileopenbox()\n",
    "    cartoonify(ImagePath)"
   ]
  },
  {
   "cell_type": "code",
   "execution_count": null,
   "metadata": {},
   "outputs": [],
   "source": [
    "def cartoonify(ImagePath):\n",
    "    originalmage=cv2.imread(ImagePath)\n",
    "    originalmage=cv2.cvtColor(originalmage,cv2.COLOR_BGR2RGB)\n",
    "    \n",
    "    \n",
    "    if originalmage is None:\n",
    "        print(\"can not find any image .Chose appropriate file\")\n",
    "        sys.exit()\n",
    "        \n",
    "    ReSized1=cv2.resize(originalmage,(960,540))\n",
    "    grayScaleImage=cv2.cvtColor(originalmage,cv2.COLOR_BGR2GRAY)\n",
    "    ReSized2=cv2.resize(greyScaleImage,(960,540))\n",
    "    \n",
    "    \n",
    "    smoothGrayScale=cv2.medianBlur(grayScaleImage,5)\n",
    "    ReSized3=cv2.resize(smoothGrayScale,(960,540))\n",
    "    \n",
    "    \n",
    "    getEdge=cv2.adaptiveThreshold(smoothGrayScale,255,\n",
    "                                 cv2.ADAPTIVE_THRESH_MEAN_C,\n",
    "                                 cv2.THRESH_BINARY,9,9)\n",
    "    ReSized4=cv2.resize(getEdge,(960,540))\n",
    "    \n",
    "    colorImage=cv2.bilateralFilter(originalmage,9,300,300)\n",
    "    ReSized5=cv2.resize(colorImage,(960,540))\n",
    "    \n",
    "    \n",
    "    cartoonImage=cv2.bitwise_and(colorImage,colorImage,mask=getEdge)\n",
    "    ReSized6=cv2.resize(cartoonImage,(960,540))\n",
    "    \n",
    "    images=[ReSized1,ReSized2,ReSized3,ReSized4,ReSized5,ReSized6]\n",
    "    fig,axes=plt.subplots(3,2,figsize(8,8),subplot_kw={'xticks':[],'yticks':[]},\n",
    "                         gridspec_kw=dict(hspace=0.1,wspace=0.1))\n",
    "    for i,ax in enumerate(axes.flat):\n",
    "        ax.imshow(images[i],cmap='gray')\n",
    "        \n",
    "    save1=Button(top,text=\"save cartoon image\",command=lambda:save(ReSized6,ImagePath),padx=30,pady=5)\n",
    "    save1.configure(background=\"#364156\",foreground='white',font=('calibri',10,'bold'))\n",
    "    save1.pack(side=TOP,pady=50)\n",
    "    \n",
    "    plt.show()\n",
    "    \n",
    "\n"
   ]
  },
  {
   "cell_type": "code",
   "execution_count": null,
   "metadata": {},
   "outputs": [],
   "source": [
    "def save(ReSized6, ImagePath):\n",
    "    \n",
    "    newName=\"cartoonified_Image\"\n",
    "    path1=os.path.dirname(ImagePath)\n",
    "    extension=os.path.splitext(ImagePath)[1]\n",
    "    path=os.path.join(path1,newName+extension)\n",
    "    cv2.imwrite(path,cv2.cvtColor(Resized6,cv2.COLOR_RGB2BGR))\n",
    "    I=\"Image saved by name\" + newName + \"at \" + path\n",
    "    tk.messagebox.showinfo(title=None,message=I)\n",
    "    "
   ]
  },
  {
   "cell_type": "code",
   "execution_count": null,
   "metadata": {},
   "outputs": [],
   "source": [
    "top=tk.Tk()\n",
    "top.geometry('400x400')\n",
    "top.title('Cartoonify your image !')\n",
    "top.configure(background='white')\n",
    "label=Label(top,background='#CDCDCD',font=('calibri',20,'bold'))\n",
    "\n",
    "upload=Button(top,text=\"Cartoonify an Image\",command=upload,padx=10,pady=5)\n",
    "upload.configure(background='#364156',foreground='white',font=('calibri',10,'bold'))\n",
    "upload.pack(side=TOP,pady=50)\n",
    "\n",
    "save1=Button(top,text=\"Save cartoon image\",command=lambda:save(ImagePath,ReSized6),padx=30,pady=5)\n",
    "save1.configure(background='#364156',foreground='white',font=('calibri',10,'bold'))\n",
    "save1.pack(side=TOP,pady=50)\n",
    "top.mainloop()"
   ]
  },
  {
   "cell_type": "code",
   "execution_count": null,
   "metadata": {},
   "outputs": [],
   "source": []
  },
  {
   "cell_type": "code",
   "execution_count": null,
   "metadata": {},
   "outputs": [],
   "source": []
  },
  {
   "cell_type": "code",
   "execution_count": null,
   "metadata": {},
   "outputs": [],
   "source": []
  }
 ],
 "metadata": {
  "kernelspec": {
   "display_name": "Python 3",
   "language": "python",
   "name": "python3"
  },
  "language_info": {
   "codemirror_mode": {
    "name": "ipython",
    "version": 3
   },
   "file_extension": ".py",
   "mimetype": "text/x-python",
   "name": "python",
   "nbconvert_exporter": "python",
   "pygments_lexer": "ipython3",
   "version": "3.8.8"
  },
  "vscode": {
   "interpreter": {
    "hash": "369f2c481f4da34e4445cda3fffd2e751bd1c4d706f27375911949ba6bb62e1c"
   }
  }
 },
 "nbformat": 4,
 "nbformat_minor": 2
}
